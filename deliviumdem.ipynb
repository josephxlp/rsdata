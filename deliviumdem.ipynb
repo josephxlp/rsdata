{
 "cells": [
  {
   "cell_type": "markdown",
   "metadata": {},
   "source": [
    "download dildem \n",
    "- find the tiles matching aoi\n",
    "- filter the links \n",
    "- download by the links exctacted "
   ]
  },
  {
   "cell_type": "code",
   "execution_count": 16,
   "metadata": {},
   "outputs": [],
   "source": [
    "import requests\n",
    "import os\n",
    "import pandas as pd \n",
    "\n",
    "def download_url(url, outdir):\n",
    "    save_path = os.path.join(outdir, os.path.basename(url))\n",
    "    \"\"\"\n",
    "    Downloads the content from the URL and saves it to the specified file.\n",
    "\n",
    "    Parameters:\n",
    "        url (str): The URL to download the file from.\n",
    "        save_path (str): The local file path to save the downloaded content.\n",
    "    \"\"\"\n",
    "    try:\n",
    "        response = requests.get(url, stream=True)\n",
    "        response.raise_for_status()  # Check for request errors\n",
    "        with open(save_path, 'wb') as file:\n",
    "            for chunk in response.iter_content(chunk_size=8192):\n",
    "                file.write(chunk)\n",
    "        print(f\"Downloaded {url} to {save_path}\")\n",
    "    except requests.exceptions.RequestException as e:\n",
    "        print(f\"Error downloading {url}: {e}\")\n",
    "\n",
    "def clean_zip_urls(url_list):\n",
    "\n",
    "    return [url.split('.zip')[0] + '.zip' for url in url_list]\n",
    "\n",
    "def urls2txt(cleaned_urls,output_file):\n",
    "     # Write cleaned URLs to the text file\n",
    "    with open(output_file, 'w') as file:\n",
    "        for url in cleaned_urls:\n",
    "            file.write(url + '\\n')"
   ]
  },
  {
   "cell_type": "code",
   "execution_count": null,
   "metadata": {},
   "outputs": [
    {
     "name": "stdout",
     "output_type": "stream",
     "text": [
      "1308 1308\n"
     ]
    }
   ],
   "source": [
    "d1 = pd.read_csv('deliviumlinks.txt').squeeze().tolist()\n",
    "output_file = 'deliviumlinks_cleaned_urls.txt'\n",
    "cleaned_urls = clean_zip_urls(d1)\n",
    "print(len(cleaned_urls), len(d1))\n",
    "urls2txt(cleaned_urls,output_file)"
   ]
  },
  {
   "cell_type": "code",
   "execution_count": null,
   "metadata": {},
   "outputs": [
    {
     "data": {
      "text/plain": [
       "['S05W065', 'N10E100', 'N10E105', 'N05E100', 'N05E105']"
      ]
     },
     "execution_count": 8,
     "metadata": {},
     "output_type": "execute_result"
    }
   ],
   "source": [
    "from upaths import dildem_tilenames4aoi as tnames,outdirDilDEM\n",
    "\n",
    "furls = sorted(set(i for i in cleaned_urls for j in tnames if j in i))\n",
    "furls = [i for i in furls if 'preview' not in i]\n",
    "assert len(tnames) == len(furls), 'check files against tilenames'\n",
    "for url in furls:\n",
    "    download_url(url, outdirDilDEM)\n"
   ]
  },
  {
   "cell_type": "code",
   "execution_count": null,
   "metadata": {},
   "outputs": [],
   "source": []
  }
 ],
 "metadata": {
  "kernelspec": {
   "display_name": "pgeoml",
   "language": "python",
   "name": "python3"
  },
  "language_info": {
   "codemirror_mode": {
    "name": "ipython",
    "version": 3
   },
   "file_extension": ".py",
   "mimetype": "text/x-python",
   "name": "python",
   "nbconvert_exporter": "python",
   "pygments_lexer": "ipython3",
   "version": "3.9.19"
  }
 },
 "nbformat": 4,
 "nbformat_minor": 2
}
