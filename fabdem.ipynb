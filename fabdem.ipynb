{
 "cells": [
  {
   "cell_type": "code",
   "execution_count": null,
   "metadata": {},
   "outputs": [],
   "source": [
    "import os\n",
    "import subprocess\n",
    "from urllib.parse import urlparse\n",
    "from concurrent.futures import ThreadPoolExecutor, as_completed\n",
    "from tqdm import tqdm\n",
    "import geopandas as gpd \n",
    "\n",
    "def modify_all_tilenames(tilenames):\n",
    "    \"\"\"\n",
    "    Modifies each tile name in the list by adding a '0' after the first character.\n",
    "\n",
    "    Parameters:\n",
    "    tilenames (list): A list of tile name strings.\n",
    "\n",
    "    Returns:\n",
    "    list: The modified list of tile names.\n",
    "    \"\"\"\n",
    "    # Iterate over each item in the list and modify it\n",
    "    for i in range(len(tilenames)):\n",
    "        tilenames[i] = tilenames[i][0] + '0' + tilenames[i][1:]\n",
    "\n",
    "    return tilenames\n",
    "\n",
    "def wget_download(url, wdir):\n",
    "    # Change to the working directory\n",
    "    #os.chdir(wdir)\n",
    "    \n",
    "    # Extract the filename from the URL\n",
    "    parsed_url = urlparse(url)\n",
    "    filename = os.path.basename(parsed_url.path)\n",
    "    \n",
    "    # Check if the file already exists\n",
    "    if os.path.isfile(filename):\n",
    "        print(f\"{filename} already exists in {wdir}.\")\n",
    "        return\n",
    "    \n",
    "    # Construct the wget command with --wait 0.5\n",
    "    cmd = f'wget --no-check-certificate --wait 0.5 -P {wdir} {url}'\n",
    "    \n",
    "    # Execute the command\n",
    "    try:\n",
    "        subprocess.run(cmd, shell=True, check=True)\n",
    "        print(f\"{filename} downloaded successfully.\")\n",
    "    except subprocess.CalledProcessError as e:\n",
    "        print(f\"Error occurred: {e}\")\n",
    "\n",
    "def parallel_wget(urls_list, wdir):\n",
    "    if len(urls_list) > 1:\n",
    "        with ThreadPoolExecutor(max_workers=int(os.cpu_count() - 2)) as TPX:\n",
    "            futures = [TPX.submit(wget_download, url, wdir) for url in urls_list]\n",
    "            \n",
    "            for _ in tqdm(as_completed(futures), total=len(futures), desc=\"Downloading\"):\n",
    "                pass\n",
    "\n",
    "        print('parallel_wget completed')\n",
    "    else:\n",
    "        if urls_list:\n",
    "            wget_download(urls_list[0], wdir)\n",
    "        print('Single download completed')"
   ]
  },
  {
   "cell_type": "code",
   "execution_count": 6,
   "metadata": {},
   "outputs": [
    {
     "data": {
      "text/plain": [
       "17"
      ]
     },
     "execution_count": 6,
     "metadata": {},
     "output_type": "execute_result"
    }
   ],
   "source": [
    "tile_rois = ['N13E103', 'S02W063', 'N11E105', 'S02W064', \n",
    "             'N12E103', 'S01W063', 'S01W064', 'N10E106', \n",
    "             'N10E105', 'N13E104', 'N11E104', 'N09E105', \n",
    "             'N12E105', 'N12E104', 'N10E104', 'N13E105', \n",
    "             'N09E106']\n",
    "tile_cs = ['N55E024', 'N55E025', 'N55E026', 'N55E027', 'N55E028', \n",
    "           'N56E024', 'N56E025', 'N56E026', 'N56E027', 'N56E028', \n",
    "           'N57E024', 'N57E025', 'N57E026', 'N57E027', 'N57E028', \n",
    "           'N58E022', 'N58E023', 'N58E024', 'N58E025', 'N58E026', \n",
    "           'N58E027', 'N58E028', 'N59E022', 'N59E023', 'N59E024', \n",
    "           'N59E025', 'N59E026', 'N59E027', 'N59E028']\n",
    "\n",
    "tile_rois = sorted(tile_rois)\n",
    "len(tile_rois)"
   ]
  },
  {
   "cell_type": "code",
   "execution_count": null,
   "metadata": {},
   "outputs": [
    {
     "name": "stdout",
     "output_type": "stream",
     "text": [
      "['N009E105', 'N009E106', 'N010E104', 'N010E105', 'N010E106', 'N011E104', 'N011E105', 'N012E103', 'N012E104', 'N012E105', 'N013E103', 'N013E104', 'N013E105', 'S001W063', 'S001W064', 'S002W063', 'S002W064']\n"
     ]
    }
   ],
   "source": [
    "\n",
    "\n",
    "# Example usage\n",
    "modified_tilenames = modify_all_tilenames(tilenames=tile_rois)\n",
    "print(modified_tilenames)"
   ]
  },
  {
   "cell_type": "code",
   "execution_count": null,
   "metadata": {},
   "outputs": [],
   "source": [
    "\n"
   ]
  },
  {
   "cell_type": "code",
   "execution_count": null,
   "metadata": {},
   "outputs": [],
   "source": []
  }
 ],
 "metadata": {
  "kernelspec": {
   "display_name": "pgeoml",
   "language": "python",
   "name": "python3"
  },
  "language_info": {
   "codemirror_mode": {
    "name": "ipython",
    "version": 3
   },
   "file_extension": ".py",
   "mimetype": "text/x-python",
   "name": "python",
   "nbconvert_exporter": "python",
   "pygments_lexer": "ipython3",
   "version": "3.9.19"
  }
 },
 "nbformat": 4,
 "nbformat_minor": 2
}
