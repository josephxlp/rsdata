{
 "cells": [
  {
   "cell_type": "code",
   "execution_count": 12,
   "metadata": {},
   "outputs": [],
   "source": [
    "from glob import glob\n",
    "from upaths import file_paths,tiles_dpath,patches_dpath\n",
    "\n",
    "from geotile import GeoTile\n",
    "from os.path import join\n",
    "from os import makedirs,system\n",
    "from concurrent.futures import ProcessPoolExecutor\n",
    "\n",
    "def geotile_generate_tiles(tif_path, dir_path):\n",
    "   \n",
    "   gt = GeoTile(tif_path)\n",
    "   gt.generate_tiles(dir_path,tile_x=256, tile_y=256, stride_x=256, stride_y=256)\n",
    "   gt.close()\n",
    "\n",
    "\n",
    "def tileindex(tdir,gpkg): #pkg = tdir + '.gpkg'\n",
    "   cmd = f'gdaltindex -t_srs EPSG:4326 -f GPKG {gpkg} {join(tdir)}/*.tif '\n",
    "   system(cmd)"
   ]
  },
  {
   "cell_type": "code",
   "execution_count": 10,
   "metadata": {},
   "outputs": [
    {
     "name": "stdout",
     "output_type": "stream",
     "text": [
      "['N09E105', 'N09E106', 'N10E104', 'N10E105', 'N10E106', 'N11E104', 'N11E105', 'N12E103', 'N12E104', 'N12E105', 'N13E103', 'N13E104', 'N13E105', 'S01W063', 'S01W064', 'S02W063', 'S02W064']\n"
     ]
    }
   ],
   "source": [
    "tilenames = [path.split('/')[-1].replace('_tdem_DEM.tif', '') for path in file_paths]\n",
    "print(tilenames)"
   ]
  },
  {
   "cell_type": "markdown",
   "metadata": {},
   "source": [
    "gen patches tif "
   ]
  },
  {
   "cell_type": "code",
   "execution_count": 11,
   "metadata": {},
   "outputs": [],
   "source": [
    "with ProcessPoolExecutor() as PEX:\n",
    "    for file_path, tile_name in zip(file_paths, tilenames):\n",
    "        #print(file_path,'',tile_name)\n",
    "        tdir = join(tiles_dpath, tile_name)\n",
    "        makedirs(tdir, exist_ok=True)\n",
    "        #PEX.submit(geotile_generate_tiles, file_path, tdir)\n",
    "                \n"
   ]
  },
  {
   "cell_type": "markdown",
   "metadata": {},
   "source": [
    "gen patches gpkg"
   ]
  },
  {
   "cell_type": "code",
   "execution_count": null,
   "metadata": {},
   "outputs": [],
   "source": [
    "with ProcessPoolExecutor() as PEX:\n",
    "    for tile_name in  tilenames:\n",
    "        tdir = join(tiles_dpath, tile_name)\n",
    "        print(tdir)\n",
    "        tfiles = glob(f'{tdir}/*.tif')\n",
    "        print(len(tfiles))\n",
    "        print(tdir,'',tile_name)\n",
    "        #pdir = join(patches_dpath, tile_name)\n",
    "        gpkg = join(patches_dpath,f'{tile_name}.gpkg' )\n",
    "        print(gpkg)\n",
    "        #makedirs(pdir, exist_ok=True)\n",
    "        PEX.submit(tileindex,tdir,gpkg)"
   ]
  },
  {
   "cell_type": "code",
   "execution_count": null,
   "metadata": {},
   "outputs": [],
   "source": []
  }
 ],
 "metadata": {
  "kernelspec": {
   "display_name": "automl",
   "language": "python",
   "name": "python3"
  },
  "language_info": {
   "codemirror_mode": {
    "name": "ipython",
    "version": 3
   },
   "file_extension": ".py",
   "mimetype": "text/x-python",
   "name": "python",
   "nbconvert_exporter": "python",
   "pygments_lexer": "ipython3",
   "version": "3.11.0"
  }
 },
 "nbformat": 4,
 "nbformat_minor": 2
}
