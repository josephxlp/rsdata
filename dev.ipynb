{
 "cells": [
  {
   "cell_type": "code",
   "execution_count": 1,
   "metadata": {},
   "outputs": [],
   "source": [
    "import os\n",
    "import pandas as pd\n",
    "\n",
    "def create_dataframe_from_tif_files(base_path):\n",
    "\n",
    "    data = {}\n",
    "    for root, dirs, files in os.walk(base_path):\n",
    "        relative_path = os.path.relpath(root, base_path)   \n",
    "        if relative_path == \".\":\n",
    "            continue\n",
    "        \n",
    "        if relative_path not in data:\n",
    "            data[relative_path] = []\n",
    "        \n",
    "        for file in files:\n",
    "            if file.endswith('.tif'):\n",
    "                full_path = os.path.join(root, file)\n",
    "                data[relative_path].append(full_path)\n",
    "\n",
    "    df = pd.DataFrame(dict([(k, pd.Series(v)) for k, v in data.items()]))\n",
    "    return df"
   ]
  },
  {
   "cell_type": "code",
   "execution_count": 2,
   "metadata": {},
   "outputs": [
    {
     "data": {
      "text/plain": [
       "N09E105    0\n",
       "N09E106    0\n",
       "N10E104    0\n",
       "N10E105    0\n",
       "N10E106    0\n",
       "N11E104    0\n",
       "N11E105    0\n",
       "N12E103    0\n",
       "N12E104    0\n",
       "N12E105    0\n",
       "N13E103    0\n",
       "N13E104    0\n",
       "N13E105    0\n",
       "S01W063    0\n",
       "S01W064    0\n",
       "S02W063    0\n",
       "S02W064    0\n",
       "dtype: int64"
      ]
     },
     "execution_count": 2,
     "metadata": {},
     "output_type": "execute_result"
    }
   ],
   "source": [
    "from upaths import sentinel2_dpath, sentinel1_dpath\n",
    "df2 = create_dataframe_from_tif_files(sentinel2_dpath)\n",
    "df2.isna().sum() "
   ]
  },
  {
   "cell_type": "code",
   "execution_count": 4,
   "metadata": {},
   "outputs": [
    {
     "data": {
      "text/plain": [
       "N09E105      0\n",
       "N09E106    141\n",
       "N10E104      1\n",
       "N10E105      0\n",
       "N10E106      0\n",
       "N11E104      8\n",
       "N11E105      0\n",
       "N12E103      1\n",
       "N12E104      1\n",
       "N12E105      2\n",
       "N13E103      2\n",
       "N13E104      0\n",
       "N13E105      0\n",
       "S01W063      0\n",
       "S01W064      0\n",
       "S02W063      3\n",
       "S02W064      1\n",
       "dtype: int64"
      ]
     },
     "execution_count": 4,
     "metadata": {},
     "output_type": "execute_result"
    }
   ],
   "source": [
    "df1 = create_dataframe_from_tif_files(sentinel1_dpath)\n",
    "df1.isna().sum()"
   ]
  },
  {
   "cell_type": "code",
   "execution_count": null,
   "metadata": {},
   "outputs": [],
   "source": []
  }
 ],
 "metadata": {
  "kernelspec": {
   "display_name": "automl",
   "language": "python",
   "name": "python3"
  },
  "language_info": {
   "codemirror_mode": {
    "name": "ipython",
    "version": 3
   },
   "file_extension": ".py",
   "mimetype": "text/x-python",
   "name": "python",
   "nbconvert_exporter": "python",
   "pygments_lexer": "ipython3",
   "version": "3.11.0"
  }
 },
 "nbformat": 4,
 "nbformat_minor": 2
}
