{
 "cells": [
  {
   "cell_type": "code",
   "execution_count": 17,
   "metadata": {},
   "outputs": [
    {
     "data": {
      "text/html": [
       "\n",
       "            <style>\n",
       "                .geemap-dark {\n",
       "                    --jp-widgets-color: white;\n",
       "                    --jp-widgets-label-color: white;\n",
       "                    --jp-ui-font-color1: white;\n",
       "                    --jp-layout-color2: #454545;\n",
       "                    background-color: #383838;\n",
       "                }\n",
       "\n",
       "                .geemap-dark .jupyter-button {\n",
       "                    --jp-layout-color3: #383838;\n",
       "                }\n",
       "\n",
       "                .geemap-colab {\n",
       "                    background-color: var(--colab-primary-surface-color, white);\n",
       "                }\n",
       "\n",
       "                .geemap-colab .jupyter-button {\n",
       "                    --jp-layout-color3: var(--colab-primary-surface-color, white);\n",
       "                }\n",
       "            </style>\n",
       "            "
      ],
      "text/plain": [
       "<IPython.core.display.HTML object>"
      ]
     },
     "metadata": {},
     "output_type": "display_data"
    }
   ],
   "source": [
    "import os\n",
    "import pandas as pd\n",
    "\n",
    "def create_dataframe_from_tif_files(base_path):\n",
    "  # Dictionary to hold subfolder names as keys and lists of file paths as values\n",
    "  data = {}\n",
    "\n",
    "  # Walk through the directory\n",
    "  for root, dirs, files in os.walk(base_path):\n",
    "      # Get the relative path of the current directory\n",
    "      relative_path = os.path.relpath(root, base_path)\n",
    "      \n",
    "      # Skip the base directory itself\n",
    "      if relative_path == \".\":\n",
    "          continue\n",
    "      \n",
    "      # Initialize a list for the current subfolder if not already present\n",
    "      if relative_path not in data:\n",
    "          data[relative_path] = []\n",
    "      \n",
    "      # Collect full paths of .tif files\n",
    "      for file in files:\n",
    "          if file.endswith('.tif'):\n",
    "              full_path = os.path.join(root, file)\n",
    "              data[relative_path].append(full_path)\n",
    "  \n",
    "  # Create a DataFrame from the dictionary\n",
    "  df = pd.DataFrame(dict([(k, pd.Series(v)) for k, v in data.items()]))\n",
    "  \n",
    "  return df"
   ]
  },
  {
   "cell_type": "code",
   "execution_count": 25,
   "metadata": {},
   "outputs": [
    {
     "data": {
      "text/html": [
       "\n",
       "            <style>\n",
       "                .geemap-dark {\n",
       "                    --jp-widgets-color: white;\n",
       "                    --jp-widgets-label-color: white;\n",
       "                    --jp-ui-font-color1: white;\n",
       "                    --jp-layout-color2: #454545;\n",
       "                    background-color: #383838;\n",
       "                }\n",
       "\n",
       "                .geemap-dark .jupyter-button {\n",
       "                    --jp-layout-color3: #383838;\n",
       "                }\n",
       "\n",
       "                .geemap-colab {\n",
       "                    background-color: var(--colab-primary-surface-color, white);\n",
       "                }\n",
       "\n",
       "                .geemap-colab .jupyter-button {\n",
       "                    --jp-layout-color3: var(--colab-primary-surface-color, white);\n",
       "                }\n",
       "            </style>\n",
       "            "
      ],
      "text/plain": [
       "<IPython.core.display.HTML object>"
      ]
     },
     "metadata": {},
     "output_type": "display_data"
    },
    {
     "data": {
      "text/plain": [
       "N09E105    0\n",
       "N09E106    0\n",
       "N10E104    0\n",
       "N10E105    0\n",
       "N10E106    0\n",
       "N11E104    0\n",
       "N11E105    0\n",
       "N12E103    0\n",
       "N12E104    0\n",
       "N12E105    0\n",
       "N13E103    0\n",
       "N13E104    0\n",
       "N13E105    0\n",
       "S01W063    0\n",
       "S01W064    0\n",
       "S02W063    0\n",
       "S02W064    0\n",
       "dtype: int64"
      ]
     },
     "execution_count": 25,
     "metadata": {},
     "output_type": "execute_result"
    }
   ],
   "source": [
    "from upaths import sentinel2_dpath\n",
    "df = create_dataframe_from_tif_files(sentinel2_dpath)\n",
    "df.isna().sum() "
   ]
  },
  {
   "cell_type": "code",
   "execution_count": null,
   "metadata": {},
   "outputs": [],
   "source": []
  }
 ],
 "metadata": {
  "kernelspec": {
   "display_name": "automl",
   "language": "python",
   "name": "python3"
  },
  "language_info": {
   "codemirror_mode": {
    "name": "ipython",
    "version": 3
   },
   "file_extension": ".py",
   "mimetype": "text/x-python",
   "name": "python",
   "nbconvert_exporter": "python",
   "pygments_lexer": "ipython3",
   "version": "3.11.0"
  }
 },
 "nbformat": 4,
 "nbformat_minor": 2
}
